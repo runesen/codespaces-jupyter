{
 "cells": [
  {
   "cell_type": "markdown",
   "id": "5a29bcae",
   "metadata": {},
   "source": [
    "# Code"
   ]
  },
  {
   "cell_type": "code",
   "execution_count": 1,
   "id": "69a8dcbd",
   "metadata": {},
   "outputs": [],
   "source": [
    "import math"
   ]
  },
  {
   "cell_type": "code",
   "execution_count": 2,
   "id": "9feff209",
   "metadata": {},
   "outputs": [],
   "source": [
    "# helper function\n",
    "def binomial_coefficient(n: int, k: int) -> int:\n",
    "    \"\"\"\n",
    "    The binomial coefficient, which equals the number of distinct ways (ignoring order), that one\n",
    "    can pick a subset of k elements among a set of n items.\n",
    "    \"\"\"\n",
    "    assert n >= k, \"n must be larger or equal to k.\"\n",
    "    return math.factorial(n) / (math.factorial(k) * math.factorial(n - k))"
   ]
  },
  {
   "cell_type": "code",
   "execution_count": 3,
   "id": "f709353e",
   "metadata": {},
   "outputs": [],
   "source": [
    "# compute number of winning combinations\n",
    "def get_number_of_winning_positions(\n",
    "    num_fields_in_space: int,\n",
    "    num_spaces: int,\n",
    "    num_bricks_to_place: int,\n",
    "    num_brick_combinations: int,\n",
    ") -> int:\n",
    "    \"\"\"\n",
    "    Compute a naive estimate of the number of potential bricks positions that would result in a win for a given problem\n",
    "    in Cosmic Knot. The estimate is 'naive' in that it does not respect any color-restrictions for placing the bricks on\n",
    "    the board. However, considering that these restrictions are the same for all positions, the value returned by this\n",
    "    function may still be indicative of the *relative* difficulty of different tasks.\n",
    "\n",
    "    Here, we consider combinations 'up to internal permutation', that is, any two placements of the exact same set of\n",
    "    bricks occupying the exact same positions are considered equivalent and will only contribute to the overall count\n",
    "    by a total of 1.\n",
    "\n",
    "    Args:\n",
    "        * num_fields_in_space: number of fields to place the bricks within in order to achieve a win\n",
    "        * num_spaces: number of different spaces that can be chosen\n",
    "        * num_bricks_to_place: number of bricks that need be placed in a space\n",
    "        * num_brick_combinations: number of different combinations for choosing the bricks to be placed\n",
    "\n",
    "    Returns:\n",
    "        The number of combinations for placing the bricks in a 'winning' way.\n",
    "    \"\"\"\n",
    "    return (\n",
    "        num_spaces * num_brick_combinations * binomial_coefficient(num_fields_in_space, num_bricks_to_place)\n",
    "    )\n"
   ]
  },
  {
   "cell_type": "markdown",
   "id": "b5530ed1",
   "metadata": {},
   "source": [
    "# Evaluating difficulty of problems"
   ]
  },
  {
   "cell_type": "markdown",
   "id": "96216176",
   "metadata": {},
   "source": [
    "### Globalist"
   ]
  },
  {
   "cell_type": "code",
   "execution_count": 4,
   "id": "ba4f0111",
   "metadata": {},
   "outputs": [
    {
     "data": {
      "text/plain": [
       "7920.0"
      ]
     },
     "execution_count": 4,
     "metadata": {},
     "output_type": "execute_result"
    }
   ],
   "source": [
    "get_number_of_winning_positions(\n",
    "    num_fields_in_space = 12, # the blue circle\n",
    "    num_spaces = 1, # there is only one blue circle\n",
    "    num_bricks_to_place = 4, # we need to place one brick from each color\n",
    "    num_brick_combinations = 16, # there are 2*2*2*2 = 16 different ways to pick 4 bricks with different colors\n",
    ")"
   ]
  },
  {
   "cell_type": "markdown",
   "id": "d6527c2b",
   "metadata": {},
   "source": [
    "### Arithmetician"
   ]
  },
  {
   "cell_type": "code",
   "execution_count": 5,
   "id": "4ea87b57",
   "metadata": {},
   "outputs": [
    {
     "data": {
      "text/plain": [
       "7920.0"
      ]
     },
     "execution_count": 5,
     "metadata": {},
     "output_type": "execute_result"
    }
   ],
   "source": [
    "# Same as Globalist\n",
    "get_number_of_winning_positions(\n",
    "    num_fields_in_space = 12,\n",
    "    num_spaces = 1,\n",
    "    num_bricks_to_place = 4,\n",
    "    num_brick_combinations = 16,\n",
    ")"
   ]
  },
  {
   "cell_type": "markdown",
   "id": "d734f4fa",
   "metadata": {},
   "source": [
    "### Conjunctionist"
   ]
  },
  {
   "cell_type": "code",
   "execution_count": 6,
   "id": "8ac8050d",
   "metadata": {},
   "outputs": [
    {
     "data": {
      "text/plain": [
       "960.0"
      ]
     },
     "execution_count": 6,
     "metadata": {},
     "output_type": "execute_result"
    }
   ],
   "source": [
    "get_number_of_winning_positions(\n",
    "    num_fields_in_space = 6, # any of the black or yellow lines \n",
    "    num_spaces = 4, # there is four of those lines\n",
    "    num_bricks_to_place = 4,\n",
    "    num_brick_combinations = 16,\n",
    ")"
   ]
  },
  {
   "cell_type": "markdown",
   "id": "e75f0664",
   "metadata": {},
   "source": [
    "### Alchemist"
   ]
  },
  {
   "cell_type": "code",
   "execution_count": 7,
   "id": "bed305ee",
   "metadata": {},
   "outputs": [
    {
     "data": {
      "text/plain": [
       "16.0"
      ]
     },
     "execution_count": 7,
     "metadata": {},
     "output_type": "execute_result"
    }
   ],
   "source": [
    "get_number_of_winning_positions(\n",
    "    num_fields_in_space = 4, # the inner square\n",
    "    num_spaces = 1, # there is only one of them\n",
    "    num_bricks_to_place = 4,\n",
    "    num_brick_combinations = 16,\n",
    ")"
   ]
  },
  {
   "cell_type": "code",
   "execution_count": null,
   "id": "10f7980b",
   "metadata": {},
   "outputs": [],
   "source": []
  }
 ],
 "metadata": {
  "kernelspec": {
   "display_name": "Python 3 (ipykernel)",
   "language": "python",
   "name": "python3"
  },
  "language_info": {
   "codemirror_mode": {
    "name": "ipython",
    "version": 3
   },
   "file_extension": ".py",
   "mimetype": "text/x-python",
   "name": "python",
   "nbconvert_exporter": "python",
   "pygments_lexer": "ipython3",
   "version": "3.10.13"
  }
 },
 "nbformat": 4,
 "nbformat_minor": 5
}
